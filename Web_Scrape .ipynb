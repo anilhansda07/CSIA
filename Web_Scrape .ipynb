{
  "nbformat": 4,
  "nbformat_minor": 0,
  "metadata": {
    "colab": {
      "name": "Untitled1.ipynb",
      "provenance": []
    },
    "kernelspec": {
      "name": "python3",
      "display_name": "Python 3"
    }
  },
  "cells": [
    {
      "cell_type": "code",
      "metadata": {
        "id": "mR4M2xH-cClt",
        "outputId": "0da8c90b-9ae1-4e9c-c04f-15f2e92eff8c",
        "colab": {
          "base_uri": "https://localhost:8080/"
        }
      },
      "source": [
        "%pip install beautifulsoup4\n",
        "%pip install requests\n",
        "\n"
      ],
      "execution_count": 5,
      "outputs": [
        {
          "output_type": "stream",
          "text": [
            "Requirement already satisfied: beautifulsoup4 in /usr/local/lib/python3.6/dist-packages (4.6.3)\n",
            "Requirement already satisfied: requests in /usr/local/lib/python3.6/dist-packages (2.23.0)\n",
            "Requirement already satisfied: certifi>=2017.4.17 in /usr/local/lib/python3.6/dist-packages (from requests) (2020.6.20)\n",
            "Requirement already satisfied: chardet<4,>=3.0.2 in /usr/local/lib/python3.6/dist-packages (from requests) (3.0.4)\n",
            "Requirement already satisfied: idna<3,>=2.5 in /usr/local/lib/python3.6/dist-packages (from requests) (2.10)\n",
            "Requirement already satisfied: urllib3!=1.25.0,!=1.25.1,<1.26,>=1.21.1 in /usr/local/lib/python3.6/dist-packages (from requests) (1.24.3)\n"
          ],
          "name": "stdout"
        }
      ]
    },
    {
      "cell_type": "code",
      "metadata": {
        "id": "PGkbErPBdfFD"
      },
      "source": [
        "import pandas as pd\n",
        "import numpy as np\n",
        "\n",
        "import requests\n",
        "from requests import get\n",
        "from bs4 import BeautifulSoup\n",
        "\n",
        "from time import sleep\n",
        "from random import randint"
      ],
      "execution_count": 6,
      "outputs": []
    },
    {
      "cell_type": "markdown",
      "metadata": {
        "id": "wmLOoIZOeIs1"
      },
      "source": [
        "Creating the list we want into"
      ]
    },
    {
      "cell_type": "code",
      "metadata": {
        "id": "3GlPIQISd95G"
      },
      "source": [
        "titles = []\n",
        "years = []\n",
        "time = []\n",
        "imdb_ratings = []\n",
        "metascores = []\n",
        "votes = []\n",
        "us_gross = []"
      ],
      "execution_count": 7,
      "outputs": []
    },
    {
      "cell_type": "markdown",
      "metadata": {
        "id": "ZOKAAbhHeanL"
      },
      "source": [
        "Getting english titles from movies\n"
      ]
    },
    {
      "cell_type": "code",
      "metadata": {
        "id": "H0jfCLbvegxO"
      },
      "source": [
        "headers = {'Accept-Language' : 'en-US, en;q=0.5'}"
      ],
      "execution_count": 8,
      "outputs": []
    },
    {
      "cell_type": "markdown",
      "metadata": {
        "id": "mwZXc3sTfARK"
      },
      "source": [
        "Setting the list of 250 moivies"
      ]
    },
    {
      "cell_type": "code",
      "metadata": {
        "id": "HoWGfmSOe_FO",
        "outputId": "223964fb-b094-47dc-b9fc-123693e817c1",
        "colab": {
          "base_uri": "https://localhost:8080/"
        }
      },
      "source": [
        "pages = np.arange(1, 251, 50)\n",
        "pages"
      ],
      "execution_count": 11,
      "outputs": [
        {
          "output_type": "execute_result",
          "data": {
            "text/plain": [
              "array([  1,  51, 101, 151, 201])"
            ]
          },
          "metadata": {
            "tags": []
          },
          "execution_count": 11
        }
      ]
    },
    {
      "cell_type": "markdown",
      "metadata": {
        "id": "6rAwMmp1fuRy"
      },
      "source": [
        " Storing each of the urls of 50 movies "
      ]
    },
    {
      "cell_type": "code",
      "metadata": {
        "id": "Ac3b_vbufvwa"
      },
      "source": [
        "for page in pages:\n",
        "    # Getting the contents from the each url\n",
        "    page = requests.get('https://www.imdb.com/search/title/?groups=top_1000&start=' + str(page) + '&ref_=adv_nxt', headers=headers)\n",
        "    soup = BeautifulSoup(page.text, 'html.parser')\n",
        "    \n",
        "    # Aiming the part of the html we want to get the information from\n",
        "    movie_div = soup.find_all('div', class_='lister-item mode-advanced')\n",
        "    \n",
        "    # Controling the loop’s rate by pausing the execution of the loop for a specified amount of time\n",
        "    # Waiting time between requests for a number between 2-10 seconds\n",
        "    sleep(randint(2,10))\n",
        "    \n",
        "    for container in movie_div:\n",
        "        # Scraping the movie's name\n",
        "        name = container.h3.a.text\n",
        "        titles.append(name)\n",
        "        \n",
        "        # Scraping the movie's year\n",
        "        year = container.h3.find('span', class_='lister-item-year').text\n",
        "        years.append(year)\n",
        "        \n",
        "        # Scraping the movie's length\n",
        "        runtime = container.find('span', class_='runtime').text if container.p.find('span', class_='runtime') else '-'\n",
        "        time.append(runtime)\n",
        "        \n",
        "        # Scraping the rating\n",
        "        imdb = float(container.strong.text)\n",
        "        imdb_ratings.append(imdb)\n",
        "        \n",
        "        # Scraping the metascore\n",
        "        m_score = container.find('span', class_='metascore').text if container.find('span', class_='metascore') else '-'\n",
        "        metascores.append(m_score)\n",
        "        \n",
        "        # Scraping votes and gross earnings\n",
        "        nv = container.find_all('span', attrs={'name':'nv'})\n",
        "        vote = nv[0].text\n",
        "        votes.append(vote)\n",
        "        grosses = nv[1].text if len(nv) > 1 else '-'\n",
        "        us_gross.append(grosses)"
      ],
      "execution_count": 13,
      "outputs": []
    },
    {
      "cell_type": "markdown",
      "metadata": {
        "id": "vG6eq8q9gbj5"
      },
      "source": [
        "Creating Data Set"
      ]
    },
    {
      "cell_type": "code",
      "metadata": {
        "id": "r2U1XOzyghON",
        "outputId": "a84c01d2-ed3d-4855-a6ae-cb89fee34515",
        "colab": {
          "base_uri": "https://localhost:8080/",
          "height": 343
        }
      },
      "source": [
        "movies = pd.DataFrame({'movie':titles,\n",
        "                       'year':years,\n",
        "                       'time_minute':time,\n",
        "                       'imdb_rating':imdb_ratings,\n",
        "                       'metascore':metascores,\n",
        "                       'vote':votes,\n",
        "                       'gross_earning':us_gross})\n",
        "\n",
        "movies.head(10)"
      ],
      "execution_count": 15,
      "outputs": [
        {
          "output_type": "execute_result",
          "data": {
            "text/html": [
              "<div>\n",
              "<style scoped>\n",
              "    .dataframe tbody tr th:only-of-type {\n",
              "        vertical-align: middle;\n",
              "    }\n",
              "\n",
              "    .dataframe tbody tr th {\n",
              "        vertical-align: top;\n",
              "    }\n",
              "\n",
              "    .dataframe thead th {\n",
              "        text-align: right;\n",
              "    }\n",
              "</style>\n",
              "<table border=\"1\" class=\"dataframe\">\n",
              "  <thead>\n",
              "    <tr style=\"text-align: right;\">\n",
              "      <th></th>\n",
              "      <th>movie</th>\n",
              "      <th>year</th>\n",
              "      <th>time_minute</th>\n",
              "      <th>imdb_rating</th>\n",
              "      <th>metascore</th>\n",
              "      <th>vote</th>\n",
              "      <th>gross_earning</th>\n",
              "    </tr>\n",
              "  </thead>\n",
              "  <tbody>\n",
              "    <tr>\n",
              "      <th>0</th>\n",
              "      <td>The Trial of the Chicago 7</td>\n",
              "      <td>(2020)</td>\n",
              "      <td>129 min</td>\n",
              "      <td>7.9</td>\n",
              "      <td>76</td>\n",
              "      <td>56,052</td>\n",
              "      <td>-</td>\n",
              "    </tr>\n",
              "    <tr>\n",
              "      <th>1</th>\n",
              "      <td>Tenet</td>\n",
              "      <td>(2020)</td>\n",
              "      <td>150 min</td>\n",
              "      <td>7.8</td>\n",
              "      <td>69</td>\n",
              "      <td>145,126</td>\n",
              "      <td>$53.80M</td>\n",
              "    </tr>\n",
              "    <tr>\n",
              "      <th>2</th>\n",
              "      <td>Spider-Man: Into the Spider-Verse</td>\n",
              "      <td>(2018)</td>\n",
              "      <td>117 min</td>\n",
              "      <td>8.4</td>\n",
              "      <td>87</td>\n",
              "      <td>351,964</td>\n",
              "      <td>$190.24M</td>\n",
              "    </tr>\n",
              "    <tr>\n",
              "      <th>3</th>\n",
              "      <td>The Gentlemen</td>\n",
              "      <td>(2019)</td>\n",
              "      <td>113 min</td>\n",
              "      <td>7.8</td>\n",
              "      <td>51</td>\n",
              "      <td>204,419</td>\n",
              "      <td>-</td>\n",
              "    </tr>\n",
              "    <tr>\n",
              "      <th>4</th>\n",
              "      <td>Harry Potter and the Sorcerer's Stone</td>\n",
              "      <td>(2001)</td>\n",
              "      <td>152 min</td>\n",
              "      <td>7.6</td>\n",
              "      <td>64</td>\n",
              "      <td>641,120</td>\n",
              "      <td>$317.58M</td>\n",
              "    </tr>\n",
              "    <tr>\n",
              "      <th>5</th>\n",
              "      <td>Knives Out</td>\n",
              "      <td>(2019)</td>\n",
              "      <td>130 min</td>\n",
              "      <td>7.9</td>\n",
              "      <td>82</td>\n",
              "      <td>414,864</td>\n",
              "      <td>$165.36M</td>\n",
              "    </tr>\n",
              "    <tr>\n",
              "      <th>6</th>\n",
              "      <td>Parasite</td>\n",
              "      <td>(2019)</td>\n",
              "      <td>132 min</td>\n",
              "      <td>8.6</td>\n",
              "      <td>96</td>\n",
              "      <td>506,882</td>\n",
              "      <td>$53.37M</td>\n",
              "    </tr>\n",
              "    <tr>\n",
              "      <th>7</th>\n",
              "      <td>Once Upon a Time... In Hollywood</td>\n",
              "      <td>(2019)</td>\n",
              "      <td>161 min</td>\n",
              "      <td>7.6</td>\n",
              "      <td>83</td>\n",
              "      <td>528,055</td>\n",
              "      <td>$142.50M</td>\n",
              "    </tr>\n",
              "    <tr>\n",
              "      <th>8</th>\n",
              "      <td>Soorarai Pottru</td>\n",
              "      <td>(2020)</td>\n",
              "      <td>153 min</td>\n",
              "      <td>9.1</td>\n",
              "      <td>-</td>\n",
              "      <td>29,663</td>\n",
              "      <td>-</td>\n",
              "    </tr>\n",
              "    <tr>\n",
              "      <th>9</th>\n",
              "      <td>1917</td>\n",
              "      <td>(2019)</td>\n",
              "      <td>119 min</td>\n",
              "      <td>8.3</td>\n",
              "      <td>78</td>\n",
              "      <td>389,434</td>\n",
              "      <td>$159.23M</td>\n",
              "    </tr>\n",
              "  </tbody>\n",
              "</table>\n",
              "</div>"
            ],
            "text/plain": [
              "                                   movie    year  ...     vote  gross_earning\n",
              "0             The Trial of the Chicago 7  (2020)  ...   56,052              -\n",
              "1                                  Tenet  (2020)  ...  145,126        $53.80M\n",
              "2      Spider-Man: Into the Spider-Verse  (2018)  ...  351,964       $190.24M\n",
              "3                          The Gentlemen  (2019)  ...  204,419              -\n",
              "4  Harry Potter and the Sorcerer's Stone  (2001)  ...  641,120       $317.58M\n",
              "5                             Knives Out  (2019)  ...  414,864       $165.36M\n",
              "6                               Parasite  (2019)  ...  506,882        $53.37M\n",
              "7       Once Upon a Time... In Hollywood  (2019)  ...  528,055       $142.50M\n",
              "8                        Soorarai Pottru  (2020)  ...   29,663              -\n",
              "9                                   1917  (2019)  ...  389,434       $159.23M\n",
              "\n",
              "[10 rows x 7 columns]"
            ]
          },
          "metadata": {
            "tags": []
          },
          "execution_count": 15
        }
      ]
    },
    {
      "cell_type": "code",
      "metadata": {
        "id": "tubN2PYrgxtp",
        "outputId": "227ec7e0-6877-4633-8a70-31f7533101e5",
        "colab": {
          "base_uri": "https://localhost:8080/"
        }
      },
      "source": [
        "movies.dtypes"
      ],
      "execution_count": 16,
      "outputs": [
        {
          "output_type": "execute_result",
          "data": {
            "text/plain": [
              "movie             object\n",
              "year              object\n",
              "time_minute       object\n",
              "imdb_rating      float64\n",
              "metascore         object\n",
              "vote              object\n",
              "gross_earning     object\n",
              "dtype: object"
            ]
          },
          "metadata": {
            "tags": []
          },
          "execution_count": 16
        }
      ]
    },
    {
      "cell_type": "markdown",
      "metadata": {
        "id": "z62VT2MBg62A"
      },
      "source": [
        "Cleaning the Data Set"
      ]
    },
    {
      "cell_type": "code",
      "metadata": {
        "id": "Mu96PA_gg0yN",
        "outputId": "bdf64b1b-d35f-4e34-a17a-c5182c2c76a6",
        "colab": {
          "base_uri": "https://localhost:8080/",
          "height": 136
        }
      },
      "source": [
        "# Cleaning 'year' column\n",
        "movies['year'] = movies['year'].str.extract('(\\d+)').astype(int)\n",
        "movies.head(3)\n"
      ],
      "execution_count": 17,
      "outputs": [
        {
          "output_type": "execute_result",
          "data": {
            "text/html": [
              "<div>\n",
              "<style scoped>\n",
              "    .dataframe tbody tr th:only-of-type {\n",
              "        vertical-align: middle;\n",
              "    }\n",
              "\n",
              "    .dataframe tbody tr th {\n",
              "        vertical-align: top;\n",
              "    }\n",
              "\n",
              "    .dataframe thead th {\n",
              "        text-align: right;\n",
              "    }\n",
              "</style>\n",
              "<table border=\"1\" class=\"dataframe\">\n",
              "  <thead>\n",
              "    <tr style=\"text-align: right;\">\n",
              "      <th></th>\n",
              "      <th>movie</th>\n",
              "      <th>year</th>\n",
              "      <th>time_minute</th>\n",
              "      <th>imdb_rating</th>\n",
              "      <th>metascore</th>\n",
              "      <th>vote</th>\n",
              "      <th>gross_earning</th>\n",
              "    </tr>\n",
              "  </thead>\n",
              "  <tbody>\n",
              "    <tr>\n",
              "      <th>0</th>\n",
              "      <td>The Trial of the Chicago 7</td>\n",
              "      <td>2020</td>\n",
              "      <td>129 min</td>\n",
              "      <td>7.9</td>\n",
              "      <td>76</td>\n",
              "      <td>56,052</td>\n",
              "      <td>-</td>\n",
              "    </tr>\n",
              "    <tr>\n",
              "      <th>1</th>\n",
              "      <td>Tenet</td>\n",
              "      <td>2020</td>\n",
              "      <td>150 min</td>\n",
              "      <td>7.8</td>\n",
              "      <td>69</td>\n",
              "      <td>145,126</td>\n",
              "      <td>$53.80M</td>\n",
              "    </tr>\n",
              "    <tr>\n",
              "      <th>2</th>\n",
              "      <td>Spider-Man: Into the Spider-Verse</td>\n",
              "      <td>2018</td>\n",
              "      <td>117 min</td>\n",
              "      <td>8.4</td>\n",
              "      <td>87</td>\n",
              "      <td>351,964</td>\n",
              "      <td>$190.24M</td>\n",
              "    </tr>\n",
              "  </tbody>\n",
              "</table>\n",
              "</div>"
            ],
            "text/plain": [
              "                               movie  year  ...     vote  gross_earning\n",
              "0         The Trial of the Chicago 7  2020  ...   56,052              -\n",
              "1                              Tenet  2020  ...  145,126        $53.80M\n",
              "2  Spider-Man: Into the Spider-Verse  2018  ...  351,964       $190.24M\n",
              "\n",
              "[3 rows x 7 columns]"
            ]
          },
          "metadata": {
            "tags": []
          },
          "execution_count": 17
        }
      ]
    },
    {
      "cell_type": "code",
      "metadata": {
        "id": "RwXIb41ZhID4",
        "outputId": "d439fd2c-49af-4451-ba1d-51349d994b6d",
        "colab": {
          "base_uri": "https://localhost:8080/",
          "height": 195
        }
      },
      "source": [
        "# Cleaning 'time_minute' column\n",
        "movies['time_minute'] = movies['time_minute'].str.extract('(\\d+)').astype(int)\n",
        "movies.head(5)\n"
      ],
      "execution_count": 18,
      "outputs": [
        {
          "output_type": "execute_result",
          "data": {
            "text/html": [
              "<div>\n",
              "<style scoped>\n",
              "    .dataframe tbody tr th:only-of-type {\n",
              "        vertical-align: middle;\n",
              "    }\n",
              "\n",
              "    .dataframe tbody tr th {\n",
              "        vertical-align: top;\n",
              "    }\n",
              "\n",
              "    .dataframe thead th {\n",
              "        text-align: right;\n",
              "    }\n",
              "</style>\n",
              "<table border=\"1\" class=\"dataframe\">\n",
              "  <thead>\n",
              "    <tr style=\"text-align: right;\">\n",
              "      <th></th>\n",
              "      <th>movie</th>\n",
              "      <th>year</th>\n",
              "      <th>time_minute</th>\n",
              "      <th>imdb_rating</th>\n",
              "      <th>metascore</th>\n",
              "      <th>vote</th>\n",
              "      <th>gross_earning</th>\n",
              "    </tr>\n",
              "  </thead>\n",
              "  <tbody>\n",
              "    <tr>\n",
              "      <th>0</th>\n",
              "      <td>The Trial of the Chicago 7</td>\n",
              "      <td>2020</td>\n",
              "      <td>129</td>\n",
              "      <td>7.9</td>\n",
              "      <td>76</td>\n",
              "      <td>56,052</td>\n",
              "      <td>-</td>\n",
              "    </tr>\n",
              "    <tr>\n",
              "      <th>1</th>\n",
              "      <td>Tenet</td>\n",
              "      <td>2020</td>\n",
              "      <td>150</td>\n",
              "      <td>7.8</td>\n",
              "      <td>69</td>\n",
              "      <td>145,126</td>\n",
              "      <td>$53.80M</td>\n",
              "    </tr>\n",
              "    <tr>\n",
              "      <th>2</th>\n",
              "      <td>Spider-Man: Into the Spider-Verse</td>\n",
              "      <td>2018</td>\n",
              "      <td>117</td>\n",
              "      <td>8.4</td>\n",
              "      <td>87</td>\n",
              "      <td>351,964</td>\n",
              "      <td>$190.24M</td>\n",
              "    </tr>\n",
              "    <tr>\n",
              "      <th>3</th>\n",
              "      <td>The Gentlemen</td>\n",
              "      <td>2019</td>\n",
              "      <td>113</td>\n",
              "      <td>7.8</td>\n",
              "      <td>51</td>\n",
              "      <td>204,419</td>\n",
              "      <td>-</td>\n",
              "    </tr>\n",
              "    <tr>\n",
              "      <th>4</th>\n",
              "      <td>Harry Potter and the Sorcerer's Stone</td>\n",
              "      <td>2001</td>\n",
              "      <td>152</td>\n",
              "      <td>7.6</td>\n",
              "      <td>64</td>\n",
              "      <td>641,120</td>\n",
              "      <td>$317.58M</td>\n",
              "    </tr>\n",
              "  </tbody>\n",
              "</table>\n",
              "</div>"
            ],
            "text/plain": [
              "                                   movie  year  ...     vote  gross_earning\n",
              "0             The Trial of the Chicago 7  2020  ...   56,052              -\n",
              "1                                  Tenet  2020  ...  145,126        $53.80M\n",
              "2      Spider-Man: Into the Spider-Verse  2018  ...  351,964       $190.24M\n",
              "3                          The Gentlemen  2019  ...  204,419              -\n",
              "4  Harry Potter and the Sorcerer's Stone  2001  ...  641,120       $317.58M\n",
              "\n",
              "[5 rows x 7 columns]"
            ]
          },
          "metadata": {
            "tags": []
          },
          "execution_count": 18
        }
      ]
    },
    {
      "cell_type": "code",
      "metadata": {
        "id": "IW-NztoShh_8"
      },
      "source": [
        "# Cleaning 'metascore' column\n",
        "movies['metascore'] = movies['metascore'].str.extract('(\\d+)')\n",
        "# convert it to float and if there are dashes turn it into NaN\n",
        "movies['metascore'] = pd.to_numeric(movies['metascore'], errors='coerce')"
      ],
      "execution_count": 19,
      "outputs": []
    },
    {
      "cell_type": "code",
      "metadata": {
        "id": "N18MON7Xhi6u",
        "outputId": "2e0d49a8-5bec-4c52-d005-f30cca213d41",
        "colab": {
          "base_uri": "https://localhost:8080/",
          "height": 136
        }
      },
      "source": [
        "# Cleaning 'vote' column\n",
        "movies['vote'] = movies['vote'].str.replace(',', '').astype(int)\n",
        "movies.head(3)\n"
      ],
      "execution_count": 20,
      "outputs": [
        {
          "output_type": "execute_result",
          "data": {
            "text/html": [
              "<div>\n",
              "<style scoped>\n",
              "    .dataframe tbody tr th:only-of-type {\n",
              "        vertical-align: middle;\n",
              "    }\n",
              "\n",
              "    .dataframe tbody tr th {\n",
              "        vertical-align: top;\n",
              "    }\n",
              "\n",
              "    .dataframe thead th {\n",
              "        text-align: right;\n",
              "    }\n",
              "</style>\n",
              "<table border=\"1\" class=\"dataframe\">\n",
              "  <thead>\n",
              "    <tr style=\"text-align: right;\">\n",
              "      <th></th>\n",
              "      <th>movie</th>\n",
              "      <th>year</th>\n",
              "      <th>time_minute</th>\n",
              "      <th>imdb_rating</th>\n",
              "      <th>metascore</th>\n",
              "      <th>vote</th>\n",
              "      <th>gross_earning</th>\n",
              "    </tr>\n",
              "  </thead>\n",
              "  <tbody>\n",
              "    <tr>\n",
              "      <th>0</th>\n",
              "      <td>The Trial of the Chicago 7</td>\n",
              "      <td>2020</td>\n",
              "      <td>129</td>\n",
              "      <td>7.9</td>\n",
              "      <td>76.0</td>\n",
              "      <td>56052</td>\n",
              "      <td>-</td>\n",
              "    </tr>\n",
              "    <tr>\n",
              "      <th>1</th>\n",
              "      <td>Tenet</td>\n",
              "      <td>2020</td>\n",
              "      <td>150</td>\n",
              "      <td>7.8</td>\n",
              "      <td>69.0</td>\n",
              "      <td>145126</td>\n",
              "      <td>$53.80M</td>\n",
              "    </tr>\n",
              "    <tr>\n",
              "      <th>2</th>\n",
              "      <td>Spider-Man: Into the Spider-Verse</td>\n",
              "      <td>2018</td>\n",
              "      <td>117</td>\n",
              "      <td>8.4</td>\n",
              "      <td>87.0</td>\n",
              "      <td>351964</td>\n",
              "      <td>$190.24M</td>\n",
              "    </tr>\n",
              "  </tbody>\n",
              "</table>\n",
              "</div>"
            ],
            "text/plain": [
              "                               movie  year  ...    vote  gross_earning\n",
              "0         The Trial of the Chicago 7  2020  ...   56052              -\n",
              "1                              Tenet  2020  ...  145126        $53.80M\n",
              "2  Spider-Man: Into the Spider-Verse  2018  ...  351964       $190.24M\n",
              "\n",
              "[3 rows x 7 columns]"
            ]
          },
          "metadata": {
            "tags": []
          },
          "execution_count": 20
        }
      ]
    },
    {
      "cell_type": "code",
      "metadata": {
        "id": "bqq1E_jvhpoX"
      },
      "source": [
        "# Cleaning 'gross_earning' column\n",
        "# left strip $ and right strip M \n",
        "movies['gross_earning'] = movies['gross_earning'].map(lambda x: x.lstrip('$').rstrip('M'))\n"
      ],
      "execution_count": null,
      "outputs": []
    },
    {
      "cell_type": "code",
      "metadata": {
        "id": "o7Sb4hyTiWlq",
        "outputId": "3eb9ec92-9a11-436e-d00b-9dc80116fa78",
        "colab": {
          "base_uri": "https://localhost:8080/",
          "height": 195
        }
      },
      "source": [
        "# convert it to float and if there are dashes turn it into NaN\n",
        "movies['gross_earning'] = pd.to_numeric(movies['gross_earning'], errors='coerce')\n",
        "movies.head(5)\n"
      ],
      "execution_count": 26,
      "outputs": [
        {
          "output_type": "execute_result",
          "data": {
            "text/html": [
              "<div>\n",
              "<style scoped>\n",
              "    .dataframe tbody tr th:only-of-type {\n",
              "        vertical-align: middle;\n",
              "    }\n",
              "\n",
              "    .dataframe tbody tr th {\n",
              "        vertical-align: top;\n",
              "    }\n",
              "\n",
              "    .dataframe thead th {\n",
              "        text-align: right;\n",
              "    }\n",
              "</style>\n",
              "<table border=\"1\" class=\"dataframe\">\n",
              "  <thead>\n",
              "    <tr style=\"text-align: right;\">\n",
              "      <th></th>\n",
              "      <th>movie</th>\n",
              "      <th>year</th>\n",
              "      <th>time_minute</th>\n",
              "      <th>imdb_rating</th>\n",
              "      <th>metascore</th>\n",
              "      <th>vote</th>\n",
              "      <th>gross_earning</th>\n",
              "    </tr>\n",
              "  </thead>\n",
              "  <tbody>\n",
              "    <tr>\n",
              "      <th>0</th>\n",
              "      <td>The Trial of the Chicago 7</td>\n",
              "      <td>2020</td>\n",
              "      <td>129</td>\n",
              "      <td>7.9</td>\n",
              "      <td>76.0</td>\n",
              "      <td>56052</td>\n",
              "      <td>NaN</td>\n",
              "    </tr>\n",
              "    <tr>\n",
              "      <th>1</th>\n",
              "      <td>Tenet</td>\n",
              "      <td>2020</td>\n",
              "      <td>150</td>\n",
              "      <td>7.8</td>\n",
              "      <td>69.0</td>\n",
              "      <td>145126</td>\n",
              "      <td>53.80</td>\n",
              "    </tr>\n",
              "    <tr>\n",
              "      <th>2</th>\n",
              "      <td>Spider-Man: Into the Spider-Verse</td>\n",
              "      <td>2018</td>\n",
              "      <td>117</td>\n",
              "      <td>8.4</td>\n",
              "      <td>87.0</td>\n",
              "      <td>351964</td>\n",
              "      <td>190.24</td>\n",
              "    </tr>\n",
              "    <tr>\n",
              "      <th>3</th>\n",
              "      <td>The Gentlemen</td>\n",
              "      <td>2019</td>\n",
              "      <td>113</td>\n",
              "      <td>7.8</td>\n",
              "      <td>51.0</td>\n",
              "      <td>204419</td>\n",
              "      <td>NaN</td>\n",
              "    </tr>\n",
              "    <tr>\n",
              "      <th>4</th>\n",
              "      <td>Harry Potter and the Sorcerer's Stone</td>\n",
              "      <td>2001</td>\n",
              "      <td>152</td>\n",
              "      <td>7.6</td>\n",
              "      <td>64.0</td>\n",
              "      <td>641120</td>\n",
              "      <td>317.58</td>\n",
              "    </tr>\n",
              "  </tbody>\n",
              "</table>\n",
              "</div>"
            ],
            "text/plain": [
              "                                   movie  year  ...    vote  gross_earning\n",
              "0             The Trial of the Chicago 7  2020  ...   56052            NaN\n",
              "1                                  Tenet  2020  ...  145126          53.80\n",
              "2      Spider-Man: Into the Spider-Verse  2018  ...  351964         190.24\n",
              "3                          The Gentlemen  2019  ...  204419            NaN\n",
              "4  Harry Potter and the Sorcerer's Stone  2001  ...  641120         317.58\n",
              "\n",
              "[5 rows x 7 columns]"
            ]
          },
          "metadata": {
            "tags": []
          },
          "execution_count": 26
        }
      ]
    },
    {
      "cell_type": "code",
      "metadata": {
        "id": "dKggEzt5ijHT",
        "outputId": "20085533-386e-4ddc-8e21-567c72e50121",
        "colab": {
          "base_uri": "https://localhost:8080/"
        }
      },
      "source": [
        "movies.dtypes"
      ],
      "execution_count": 27,
      "outputs": [
        {
          "output_type": "execute_result",
          "data": {
            "text/plain": [
              "movie             object\n",
              "year               int64\n",
              "time_minute        int64\n",
              "imdb_rating      float64\n",
              "metascore        float64\n",
              "vote               int64\n",
              "gross_earning    float64\n",
              "dtype: object"
            ]
          },
          "metadata": {
            "tags": []
          },
          "execution_count": 27
        }
      ]
    },
    {
      "cell_type": "markdown",
      "metadata": {
        "id": "W5tEbDLwi3TB"
      },
      "source": [
        "Final Data Set"
      ]
    },
    {
      "cell_type": "code",
      "metadata": {
        "id": "mvS4T16Uip3s",
        "outputId": "e2b10a14-d7e9-4742-9bef-4ca02d4ae183",
        "colab": {
          "base_uri": "https://localhost:8080/",
          "height": 402
        }
      },
      "source": [
        "movies\n"
      ],
      "execution_count": 28,
      "outputs": [
        {
          "output_type": "execute_result",
          "data": {
            "text/html": [
              "<div>\n",
              "<style scoped>\n",
              "    .dataframe tbody tr th:only-of-type {\n",
              "        vertical-align: middle;\n",
              "    }\n",
              "\n",
              "    .dataframe tbody tr th {\n",
              "        vertical-align: top;\n",
              "    }\n",
              "\n",
              "    .dataframe thead th {\n",
              "        text-align: right;\n",
              "    }\n",
              "</style>\n",
              "<table border=\"1\" class=\"dataframe\">\n",
              "  <thead>\n",
              "    <tr style=\"text-align: right;\">\n",
              "      <th></th>\n",
              "      <th>movie</th>\n",
              "      <th>year</th>\n",
              "      <th>time_minute</th>\n",
              "      <th>imdb_rating</th>\n",
              "      <th>metascore</th>\n",
              "      <th>vote</th>\n",
              "      <th>gross_earning</th>\n",
              "    </tr>\n",
              "  </thead>\n",
              "  <tbody>\n",
              "    <tr>\n",
              "      <th>0</th>\n",
              "      <td>The Trial of the Chicago 7</td>\n",
              "      <td>2020</td>\n",
              "      <td>129</td>\n",
              "      <td>7.9</td>\n",
              "      <td>76.0</td>\n",
              "      <td>56052</td>\n",
              "      <td>NaN</td>\n",
              "    </tr>\n",
              "    <tr>\n",
              "      <th>1</th>\n",
              "      <td>Tenet</td>\n",
              "      <td>2020</td>\n",
              "      <td>150</td>\n",
              "      <td>7.8</td>\n",
              "      <td>69.0</td>\n",
              "      <td>145126</td>\n",
              "      <td>53.80</td>\n",
              "    </tr>\n",
              "    <tr>\n",
              "      <th>2</th>\n",
              "      <td>Spider-Man: Into the Spider-Verse</td>\n",
              "      <td>2018</td>\n",
              "      <td>117</td>\n",
              "      <td>8.4</td>\n",
              "      <td>87.0</td>\n",
              "      <td>351964</td>\n",
              "      <td>190.24</td>\n",
              "    </tr>\n",
              "    <tr>\n",
              "      <th>3</th>\n",
              "      <td>The Gentlemen</td>\n",
              "      <td>2019</td>\n",
              "      <td>113</td>\n",
              "      <td>7.8</td>\n",
              "      <td>51.0</td>\n",
              "      <td>204419</td>\n",
              "      <td>NaN</td>\n",
              "    </tr>\n",
              "    <tr>\n",
              "      <th>4</th>\n",
              "      <td>Harry Potter and the Sorcerer's Stone</td>\n",
              "      <td>2001</td>\n",
              "      <td>152</td>\n",
              "      <td>7.6</td>\n",
              "      <td>64.0</td>\n",
              "      <td>641120</td>\n",
              "      <td>317.58</td>\n",
              "    </tr>\n",
              "    <tr>\n",
              "      <th>...</th>\n",
              "      <td>...</td>\n",
              "      <td>...</td>\n",
              "      <td>...</td>\n",
              "      <td>...</td>\n",
              "      <td>...</td>\n",
              "      <td>...</td>\n",
              "      <td>...</td>\n",
              "    </tr>\n",
              "    <tr>\n",
              "      <th>245</th>\n",
              "      <td>Into the Wild</td>\n",
              "      <td>2007</td>\n",
              "      <td>148</td>\n",
              "      <td>8.1</td>\n",
              "      <td>73.0</td>\n",
              "      <td>565568</td>\n",
              "      <td>18.35</td>\n",
              "    </tr>\n",
              "    <tr>\n",
              "      <th>246</th>\n",
              "      <td>Sin City</td>\n",
              "      <td>2005</td>\n",
              "      <td>124</td>\n",
              "      <td>8.0</td>\n",
              "      <td>74.0</td>\n",
              "      <td>735590</td>\n",
              "      <td>74.10</td>\n",
              "    </tr>\n",
              "    <tr>\n",
              "      <th>247</th>\n",
              "      <td>The Bourne Supremacy</td>\n",
              "      <td>2004</td>\n",
              "      <td>108</td>\n",
              "      <td>7.7</td>\n",
              "      <td>73.0</td>\n",
              "      <td>430415</td>\n",
              "      <td>176.24</td>\n",
              "    </tr>\n",
              "    <tr>\n",
              "      <th>248</th>\n",
              "      <td>Scent of a Woman</td>\n",
              "      <td>1992</td>\n",
              "      <td>156</td>\n",
              "      <td>8.0</td>\n",
              "      <td>59.0</td>\n",
              "      <td>258180</td>\n",
              "      <td>63.90</td>\n",
              "    </tr>\n",
              "    <tr>\n",
              "      <th>249</th>\n",
              "      <td>Children of Men</td>\n",
              "      <td>2006</td>\n",
              "      <td>109</td>\n",
              "      <td>7.9</td>\n",
              "      <td>84.0</td>\n",
              "      <td>460668</td>\n",
              "      <td>35.55</td>\n",
              "    </tr>\n",
              "  </tbody>\n",
              "</table>\n",
              "<p>250 rows × 7 columns</p>\n",
              "</div>"
            ],
            "text/plain": [
              "                                     movie  year  ...    vote  gross_earning\n",
              "0               The Trial of the Chicago 7  2020  ...   56052            NaN\n",
              "1                                    Tenet  2020  ...  145126          53.80\n",
              "2        Spider-Man: Into the Spider-Verse  2018  ...  351964         190.24\n",
              "3                            The Gentlemen  2019  ...  204419            NaN\n",
              "4    Harry Potter and the Sorcerer's Stone  2001  ...  641120         317.58\n",
              "..                                     ...   ...  ...     ...            ...\n",
              "245                          Into the Wild  2007  ...  565568          18.35\n",
              "246                               Sin City  2005  ...  735590          74.10\n",
              "247                   The Bourne Supremacy  2004  ...  430415         176.24\n",
              "248                       Scent of a Woman  1992  ...  258180          63.90\n",
              "249                        Children of Men  2006  ...  460668          35.55\n",
              "\n",
              "[250 rows x 7 columns]"
            ]
          },
          "metadata": {
            "tags": []
          },
          "execution_count": 28
        }
      ]
    },
    {
      "cell_type": "markdown",
      "metadata": {
        "id": "-xqu4irAi7Go"
      },
      "source": [
        "Saving the data to a csv file"
      ]
    },
    {
      "cell_type": "code",
      "metadata": {
        "id": "_5yeVPqxirLB"
      },
      "source": [
        "movies.to_csv('movies.csv')"
      ],
      "execution_count": 32,
      "outputs": []
    }
  ]
}